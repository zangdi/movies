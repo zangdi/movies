{
 "cells": [
  {
   "cell_type": "code",
   "execution_count": 1,
   "metadata": {},
   "outputs": [
    {
     "name": "stdout",
     "output_type": "stream",
     "text": [
      "   Release Year                             Title Origin/Ethnicity  \\\n",
      "0          1901            Kansas Saloon Smashers         American   \n",
      "1          1901     Love by the Light of the Moon         American   \n",
      "2          1901           The Martyred Presidents         American   \n",
      "3          1901  Terrible Teddy, the Grizzly King         American   \n",
      "4          1902            Jack and the Beanstalk         American   \n",
      "\n",
      "                             Director Cast    Genre  \\\n",
      "0                             Unknown  NaN  unknown   \n",
      "1                             Unknown  NaN  unknown   \n",
      "2                             Unknown  NaN  unknown   \n",
      "3                             Unknown  NaN  unknown   \n",
      "4  George S. Fleming, Edwin S. Porter  NaN  unknown   \n",
      "\n",
      "                                           Wiki Page  \\\n",
      "0  https://en.wikipedia.org/wiki/Kansas_Saloon_Sm...   \n",
      "1  https://en.wikipedia.org/wiki/Love_by_the_Ligh...   \n",
      "2  https://en.wikipedia.org/wiki/The_Martyred_Pre...   \n",
      "3  https://en.wikipedia.org/wiki/Terrible_Teddy,_...   \n",
      "4  https://en.wikipedia.org/wiki/Jack_and_the_Bea...   \n",
      "\n",
      "                                                Plot  \n",
      "0  A bartender is working at a saloon, serving dr...  \n",
      "1  The moon, painted with a smiling face hangs ov...  \n",
      "2  The film, just over a minute long, is composed...  \n",
      "3  Lasting just 61 seconds and consisting of two ...  \n",
      "4  The earliest known adaptation of the classic f...  \n"
     ]
    }
   ],
   "source": [
    "import warnings\n",
    "warnings.filterwarnings(\"ignore\")\n",
    "import matplotlib.pyplot as graph\n",
    "%matplotlib inline\n",
    "graph.rcParams['figure.figsize'] = (15,5)\n",
    "graph.rcParams[\"font.family\"] = \"DejaVu Sans\"\n",
    "graph.rcParams[\"font.size\"] = \"12\"\n",
    "graph.rcParams['image.cmap'] = 'rainbow'\n",
    "graph.rcParams['axes.facecolor'] = 'white'\n",
    "graph.rcParams['figure.facecolor'] = 'white'\n",
    "import numpy as np\n",
    "import pandas as pd\n",
    "\n",
    "import re\n",
    "\n",
    "dataset = pd.read_csv('wiki_movie_plots.csv')\n",
    "\n",
    "print(dataset.head())"
   ]
  },
  {
   "cell_type": "code",
   "execution_count": 6,
   "metadata": {},
   "outputs": [
    {
     "name": "stdout",
     "output_type": "stream",
     "text": [
      "     Genre                                               Plot\n",
      "0  unknown  A bartender is working at a saloon, serving dr...\n",
      "1  unknown  The moon, painted with a smiling face hangs ov...\n",
      "2  unknown  The film, just over a minute long, is composed...\n",
      "3  unknown  Lasting just 61 seconds and consisting of two ...\n",
      "4  unknown  The earliest known adaptation of the classic f...\n"
     ]
    }
   ],
   "source": [
    "dataset = dataset.drop(['Cast', 'Director', 'Wiki Page', 'Origin/Ethnicity', 'Release Year', 'Title'], axis = 1)\n",
    "print(dataset.head())"
   ]
  },
  {
   "cell_type": "code",
   "execution_count": 8,
   "metadata": {},
   "outputs": [
    {
     "name": "stdout",
     "output_type": "stream",
     "text": [
      "0    False\n",
      "1    False\n",
      "2    False\n",
      "3    False\n",
      "4    False\n",
      "Name: Genre, dtype: bool\n"
     ]
    }
   ],
   "source": [
    "known = dataset['Genre'] != 'unknown'\n",
    "print(known.head())"
   ]
  },
  {
   "cell_type": "code",
   "execution_count": 9,
   "metadata": {},
   "outputs": [
    {
     "name": "stdout",
     "output_type": "stream",
     "text": [
      "(28803, 2)\n",
      "                         Genre  \\\n",
      "6                      western   \n",
      "7                       comedy   \n",
      "10                       short   \n",
      "11  short action/crime western   \n",
      "12                  short film   \n",
      "\n",
      "                                                 Plot  \n",
      "6   The film opens with two bandits breaking into ...  \n",
      "7   The film is about a family who move to the sub...  \n",
      "10  The Rarebit Fiend gorges on Welsh rarebit at a...  \n",
      "11  The film features a train traveling through th...  \n",
      "12  Irish villager Kathleen is a tenant of Captain...  \n"
     ]
    }
   ],
   "source": [
    "dataset = dataset[known]\n",
    "print(dataset.shape)\n",
    "print(dataset.head())"
   ]
  },
  {
   "cell_type": "code",
   "execution_count": 48,
   "metadata": {},
   "outputs": [
    {
     "name": "stdout",
     "output_type": "stream",
     "text": [
      "drama              5964\n",
      "comedy             4379\n",
      "horror             1167\n",
      "action             1098\n",
      "thriller            966\n",
      "romance             923\n",
      "western             865\n",
      "crime               568\n",
      "adventure           526\n",
      "musical             467\n",
      "crime drama         464\n",
      "romantic comedy     461\n",
      "science fiction     418\n",
      "film noir           345\n",
      "mystery             310\n",
      "war                 273\n",
      "animation           264\n",
      "comedy, drama       236\n",
      "sci-fi              221\n",
      "family              217\n",
      "Name: Genre, dtype: int64\n",
      "['drama', 'comedy', 'horror', 'action', 'thriller', 'romance', 'western', 'crime', 'adventure', 'musical', 'crime drama', 'romantic comedy', 'science fiction', 'film noir', 'mystery']\n"
     ]
    }
   ],
   "source": [
    "print(dataset['Genre'].value_counts()[:20])\n",
    "genres = dataset['Genre'].value_counts()[:15].index.tolist()\n",
    "print(genres)"
   ]
  },
  {
   "cell_type": "code",
   "execution_count": 72,
   "metadata": {},
   "outputs": [
    {
     "name": "stdout",
     "output_type": "stream",
     "text": [
      "      Genre                                               Plot\n",
      "6   western  The film opens with two bandits breaking into ...\n",
      "7    comedy  The film is about a family who move to the sub...\n",
      "14   comedy  Before heading out to a baseball game at a nea...\n",
      "15   comedy  The plot is that of a black woman going to the...\n",
      "16    drama  On a beautiful summer day a father and mother ...\n"
     ]
    }
   ],
   "source": [
    "keep_genres = dataset[dataset['Genre'].isin(genres)]\n",
    "print(keep_genres.head())"
   ]
  },
  {
   "cell_type": "code",
   "execution_count": 73,
   "metadata": {},
   "outputs": [
    {
     "name": "stdout",
     "output_type": "stream",
     "text": [
      "      Genre                                               Plot\n",
      "6   western  the film opens with two bandits breaking into ...\n",
      "7    comedy  the film is about a family who move to the sub...\n",
      "14   comedy  before heading out to a baseball game at a nea...\n",
      "15   comedy  the plot is that of a black woman going to the...\n",
      "16    drama  on a beautiful summer day a father and mother ...\n"
     ]
    }
   ],
   "source": [
    "keep_genres['Plot'] = keep_genres['Plot'].apply(lambda x: x.lower())\n",
    "print(keep_genres.head())"
   ]
  },
  {
   "cell_type": "code",
   "execution_count": 74,
   "metadata": {},
   "outputs": [
    {
     "name": "stdout",
     "output_type": "stream",
     "text": [
      "      Genre                                               Plot\n",
      "6   western  the film opens with two bandits breaking into ...\n",
      "7    comedy  the film is about a family who move to the sub...\n",
      "14   comedy  before heading out to a baseball game at a nea...\n",
      "15   comedy  the plot is that of a black woman going to the...\n",
      "16    drama  on a beautiful summer day a father and mother ...\n",
      "['the film opens with two bandits breaking into a railroad telegraph office  where they force the operator at gunpoint to have a train stopped and to transmit orders for the engineer to fill the locomotives tender at the stations water tank  they then knock the operator out and tie him up  as the train stops it is boarded by the bandits   now four  two bandits enter an express car  kill a messenger and open a box of valuables with dynamite  the others kill the fireman and force the engineer to halt the train and disconnect the locomotive  the bandits then force the passengers off the train and rifle them for their belongings  one passenger tries to escape but is instantly shot down  carrying their loot  the bandits escape in the locomotive  later stopping in a valley where their horses had been left   meanwhile  back in the telegraph office  the bound operator awakens  but he collapses again  his daughter arrives bringing him his meal and cuts him free  and restores him to consciousness by dousing him with water   there is some comic relief at a dance hall  where an eastern stranger is forced to dance while the locals fire at his feet  the door suddenly opens and the telegraph operator rushes in to tell them of the robbery  the men quickly form a posse  which overtakes the bandits  and in a final shootout kills them all and recovers the stolen mail ']\n"
     ]
    }
   ],
   "source": [
    "import re\n",
    "\n",
    "keep_genres['Plot'] = keep_genres['Plot'].apply(lambda x: re.sub('[^ a-z]', ' ', re.sub(\"'\", '', x)))\n",
    "print(keep_genres.head())\n",
    "print(keep_genres['Plot'].head(1).tolist())"
   ]
  },
  {
   "cell_type": "code",
   "execution_count": 75,
   "metadata": {},
   "outputs": [
    {
     "name": "stdout",
     "output_type": "stream",
     "text": [
      "['the film opens with two bandits breaking into a railroad telegraph office where they force the operator at gunpoint to have a train stopped and to transmit orders for the engineer to fill the locomotives tender at the stations water tank they then knock the operator out and tie him up as the train stops it is boarded by the bandits now four two bandits enter an express car kill a messenger and open a box of valuables with dynamite the others kill the fireman and force the engineer to halt the train and disconnect the locomotive the bandits then force the passengers off the train and rifle them for their belongings one passenger tries to escape but is instantly shot down carrying their loot the bandits escape in the locomotive later stopping in a valley where their horses had been left meanwhile back in the telegraph office the bound operator awakens but he collapses again his daughter arrives bringing him his meal and cuts him free and restores him to consciousness by dousing him with water there is some comic relief at a dance hall where an eastern stranger is forced to dance while the locals fire at his feet the door suddenly opens and the telegraph operator rushes in to tell them of the robbery the men quickly form a posse which overtakes the bandits and in a final shootout kills them all and recovers the stolen mail ']\n"
     ]
    }
   ],
   "source": [
    "keep_genres['Plot'] = keep_genres['Plot'].apply(lambda x: re.sub(' +', ' ', x))\n",
    "print(keep_genres['Plot'].head(1).tolist())"
   ]
  },
  {
   "cell_type": "code",
   "execution_count": 76,
   "metadata": {},
   "outputs": [
    {
     "name": "stdout",
     "output_type": "stream",
     "text": [
      "['the film opens with two bandits breaking into a railroad telegraph office where they force the operator at gunpoint to have a train stopped and to transmit orders for the engineer to fill the locomotives tender at the stations water tank they then knock the operator out and tie him up as the train stops it is boarded by the bandits now four two bandits enter an express car kill a messenger and open a box of valuables with dynamite the others kill the fireman and force the engineer to halt the train and disconnect the locomotive the bandits then force the passengers off the train and rifle them for their belongings one passenger tries to escape but is instantly shot down carrying their loot the bandits escape in the locomotive later stopping in a valley where their horses had been left meanwhile back in the telegraph office the bound operator awakens but he collapses again his daughter arrives bringing him his meal and cuts him free and restores him to consciousness by dousing him with water there is some comic relief at a dance hall where an eastern stranger is forced to dance while the locals fire at his feet the door suddenly opens and the telegraph operator rushes in to tell them of the robbery the men quickly form a posse which overtakes the bandits and in a final shootout kills them all and recovers the stolen mail']\n"
     ]
    }
   ],
   "source": [
    "keep_genres['Plot'] = keep_genres['Plot'].apply(lambda x: x.strip())\n",
    "print(keep_genres['Plot'].head(1).tolist())"
   ]
  },
  {
   "cell_type": "code",
   "execution_count": null,
   "metadata": {},
   "outputs": [],
   "source": []
  }
 ],
 "metadata": {
  "kernelspec": {
   "display_name": "Python 3",
   "language": "python",
   "name": "python3"
  },
  "language_info": {
   "codemirror_mode": {
    "name": "ipython",
    "version": 3
   },
   "file_extension": ".py",
   "mimetype": "text/x-python",
   "name": "python",
   "nbconvert_exporter": "python",
   "pygments_lexer": "ipython3",
   "version": "3.6.8"
  }
 },
 "nbformat": 4,
 "nbformat_minor": 4
}
